{
 "cells": [
  {
   "cell_type": "markdown",
   "metadata": {},
   "source": [
    "# Ch00 - Pandas Exercises"
   ]
  },
  {
   "cell_type": "markdown",
   "metadata": {},
   "source": [
    "<img src=\"../../assets/workout.png\"\n",
    "     alt=\"Hierarchical clustering\"\n",
    "     style=\"width: 100px; float: right; margin: 20px\" />\n",
    "\n",
    "__Welcome to the practice exercises for chapter 00!__\n",
    "\n",
    "The exercises are divided into three parts, gradually increasing in difficulty. Are you up to the challenge? \n",
    "\n",
    "The three exercises uses slightly different techniques, and different datasets.\n",
    "\n",
    "It is recommended to use what you know and the listed resources to complete as many exercises as possible before asking for assistance.\n",
    "\n",
    "__Enjoy!__\n",
    "\n",
    "---"
   ]
  },
  {
   "cell_type": "markdown",
   "metadata": {},
   "source": [
    "**Tips and tricks:**\n",
    "<ul>\n",
    "    <li/> Pandas documentation: <a>https://pandas.pydata.org/docs/user_guide/index.html#user-guide</a>\n",
    "    <li/> Pandas and data-wrangling cook-book: <a>https://chrisalbon.com/</a>\n",
    "</ul>\n",
    "\n",
    "**Content:**\n",
    "\n",
    "* [Basic exercises](#basic)\n",
    "* [Medium exercises](#medium)\n",
    "* [Challenging exercises](#challenge)"
   ]
  },
  {
   "cell_type": "markdown",
   "metadata": {},
   "source": [
    "---\n",
    "\n",
    "<img src=\"../images/beginner.png\"\n",
    "     alt=\"Hierarchical clustering\"\n",
    "     style=\"width: 75px; float: right; margin: 20px\" />\n",
    "\n",
    "\n",
    "## Level: Basic<a class=\"anchor\" id=\"basic\"></a>"
   ]
  },
  {
   "cell_type": "markdown",
   "metadata": {},
   "source": [
    "__Task 1:__\n",
    "\n",
    "Import data from this website\n",
    "https://raw.githubusercontent.com/justmarkham/DAT8/master/data/u.user and assign it to a dataframe called `users`."
   ]
  },
  {
   "cell_type": "code",
   "execution_count": 3,
   "metadata": {
    "ExecuteTime": {
     "end_time": "2021-01-07T08:35:45.694580Z",
     "start_time": "2021-01-07T08:35:45.461948Z"
    }
   },
   "outputs": [
    {
     "data": {
      "text/html": [
       "<div>\n",
       "<style scoped>\n",
       "    .dataframe tbody tr th:only-of-type {\n",
       "        vertical-align: middle;\n",
       "    }\n",
       "\n",
       "    .dataframe tbody tr th {\n",
       "        vertical-align: top;\n",
       "    }\n",
       "\n",
       "    .dataframe thead th {\n",
       "        text-align: right;\n",
       "    }\n",
       "</style>\n",
       "<table border=\"1\" class=\"dataframe\">\n",
       "  <thead>\n",
       "    <tr style=\"text-align: right;\">\n",
       "      <th></th>\n",
       "      <th>user_id</th>\n",
       "      <th>age</th>\n",
       "      <th>gender</th>\n",
       "      <th>occupation</th>\n",
       "      <th>zip_code</th>\n",
       "    </tr>\n",
       "  </thead>\n",
       "  <tbody>\n",
       "    <tr>\n",
       "      <th>0</th>\n",
       "      <td>1</td>\n",
       "      <td>24</td>\n",
       "      <td>M</td>\n",
       "      <td>technician</td>\n",
       "      <td>85711</td>\n",
       "    </tr>\n",
       "    <tr>\n",
       "      <th>1</th>\n",
       "      <td>2</td>\n",
       "      <td>53</td>\n",
       "      <td>F</td>\n",
       "      <td>other</td>\n",
       "      <td>94043</td>\n",
       "    </tr>\n",
       "    <tr>\n",
       "      <th>2</th>\n",
       "      <td>3</td>\n",
       "      <td>23</td>\n",
       "      <td>M</td>\n",
       "      <td>writer</td>\n",
       "      <td>32067</td>\n",
       "    </tr>\n",
       "    <tr>\n",
       "      <th>3</th>\n",
       "      <td>4</td>\n",
       "      <td>24</td>\n",
       "      <td>M</td>\n",
       "      <td>technician</td>\n",
       "      <td>43537</td>\n",
       "    </tr>\n",
       "    <tr>\n",
       "      <th>4</th>\n",
       "      <td>5</td>\n",
       "      <td>33</td>\n",
       "      <td>F</td>\n",
       "      <td>other</td>\n",
       "      <td>15213</td>\n",
       "    </tr>\n",
       "    <tr>\n",
       "      <th>...</th>\n",
       "      <td>...</td>\n",
       "      <td>...</td>\n",
       "      <td>...</td>\n",
       "      <td>...</td>\n",
       "      <td>...</td>\n",
       "    </tr>\n",
       "    <tr>\n",
       "      <th>938</th>\n",
       "      <td>939</td>\n",
       "      <td>26</td>\n",
       "      <td>F</td>\n",
       "      <td>student</td>\n",
       "      <td>33319</td>\n",
       "    </tr>\n",
       "    <tr>\n",
       "      <th>939</th>\n",
       "      <td>940</td>\n",
       "      <td>32</td>\n",
       "      <td>M</td>\n",
       "      <td>administrator</td>\n",
       "      <td>02215</td>\n",
       "    </tr>\n",
       "    <tr>\n",
       "      <th>940</th>\n",
       "      <td>941</td>\n",
       "      <td>20</td>\n",
       "      <td>M</td>\n",
       "      <td>student</td>\n",
       "      <td>97229</td>\n",
       "    </tr>\n",
       "    <tr>\n",
       "      <th>941</th>\n",
       "      <td>942</td>\n",
       "      <td>48</td>\n",
       "      <td>F</td>\n",
       "      <td>librarian</td>\n",
       "      <td>78209</td>\n",
       "    </tr>\n",
       "    <tr>\n",
       "      <th>942</th>\n",
       "      <td>943</td>\n",
       "      <td>22</td>\n",
       "      <td>M</td>\n",
       "      <td>student</td>\n",
       "      <td>77841</td>\n",
       "    </tr>\n",
       "  </tbody>\n",
       "</table>\n",
       "<p>943 rows × 5 columns</p>\n",
       "</div>"
      ],
      "text/plain": [
       "     user_id  age gender     occupation zip_code\n",
       "0          1   24      M     technician    85711\n",
       "1          2   53      F          other    94043\n",
       "2          3   23      M         writer    32067\n",
       "3          4   24      M     technician    43537\n",
       "4          5   33      F          other    15213\n",
       "..       ...  ...    ...            ...      ...\n",
       "938      939   26      F        student    33319\n",
       "939      940   32      M  administrator    02215\n",
       "940      941   20      M        student    97229\n",
       "941      942   48      F      librarian    78209\n",
       "942      943   22      M        student    77841\n",
       "\n",
       "[943 rows x 5 columns]"
      ]
     },
     "execution_count": 3,
     "metadata": {},
     "output_type": "execute_result"
    }
   ],
   "source": [
    "import pandas as pd\n",
    "import numpy as np\n",
    "\n",
    "# Enter your code below\n",
    "# =====================\n",
    "users = pd.read_csv('https://raw.githubusercontent.com/justmarkham/DAT8/master/data/u.user', sep=\"|\")\n",
    "users\n"
   ]
  },
  {
   "cell_type": "markdown",
   "metadata": {},
   "source": [
    "__Task 2:__\n",
    "\n",
    "Explore the data.\n",
    "<ol>\n",
    "    <li/> Display (print on screen) the first 25 entries (rows)\n",
    "    <li/> Display (print on screen) the last 10 entires (rows)\n",
    "    <li/> Find the number of rows and columns in dataset\n",
    "</ol>"
   ]
  },
  {
   "cell_type": "code",
   "execution_count": 4,
   "metadata": {
    "ExecuteTime": {
     "end_time": "2021-01-07T08:35:45.701784Z",
     "start_time": "2021-01-07T08:35:45.698718Z"
    }
   },
   "outputs": [
    {
     "data": {
      "text/html": [
       "<div>\n",
       "<style scoped>\n",
       "    .dataframe tbody tr th:only-of-type {\n",
       "        vertical-align: middle;\n",
       "    }\n",
       "\n",
       "    .dataframe tbody tr th {\n",
       "        vertical-align: top;\n",
       "    }\n",
       "\n",
       "    .dataframe thead th {\n",
       "        text-align: right;\n",
       "    }\n",
       "</style>\n",
       "<table border=\"1\" class=\"dataframe\">\n",
       "  <thead>\n",
       "    <tr style=\"text-align: right;\">\n",
       "      <th></th>\n",
       "      <th>user_id</th>\n",
       "      <th>age</th>\n",
       "      <th>gender</th>\n",
       "      <th>occupation</th>\n",
       "      <th>zip_code</th>\n",
       "    </tr>\n",
       "  </thead>\n",
       "  <tbody>\n",
       "    <tr>\n",
       "      <th>0</th>\n",
       "      <td>1</td>\n",
       "      <td>24</td>\n",
       "      <td>M</td>\n",
       "      <td>technician</td>\n",
       "      <td>85711</td>\n",
       "    </tr>\n",
       "    <tr>\n",
       "      <th>1</th>\n",
       "      <td>2</td>\n",
       "      <td>53</td>\n",
       "      <td>F</td>\n",
       "      <td>other</td>\n",
       "      <td>94043</td>\n",
       "    </tr>\n",
       "    <tr>\n",
       "      <th>2</th>\n",
       "      <td>3</td>\n",
       "      <td>23</td>\n",
       "      <td>M</td>\n",
       "      <td>writer</td>\n",
       "      <td>32067</td>\n",
       "    </tr>\n",
       "    <tr>\n",
       "      <th>3</th>\n",
       "      <td>4</td>\n",
       "      <td>24</td>\n",
       "      <td>M</td>\n",
       "      <td>technician</td>\n",
       "      <td>43537</td>\n",
       "    </tr>\n",
       "    <tr>\n",
       "      <th>4</th>\n",
       "      <td>5</td>\n",
       "      <td>33</td>\n",
       "      <td>F</td>\n",
       "      <td>other</td>\n",
       "      <td>15213</td>\n",
       "    </tr>\n",
       "    <tr>\n",
       "      <th>5</th>\n",
       "      <td>6</td>\n",
       "      <td>42</td>\n",
       "      <td>M</td>\n",
       "      <td>executive</td>\n",
       "      <td>98101</td>\n",
       "    </tr>\n",
       "    <tr>\n",
       "      <th>6</th>\n",
       "      <td>7</td>\n",
       "      <td>57</td>\n",
       "      <td>M</td>\n",
       "      <td>administrator</td>\n",
       "      <td>91344</td>\n",
       "    </tr>\n",
       "    <tr>\n",
       "      <th>7</th>\n",
       "      <td>8</td>\n",
       "      <td>36</td>\n",
       "      <td>M</td>\n",
       "      <td>administrator</td>\n",
       "      <td>05201</td>\n",
       "    </tr>\n",
       "    <tr>\n",
       "      <th>8</th>\n",
       "      <td>9</td>\n",
       "      <td>29</td>\n",
       "      <td>M</td>\n",
       "      <td>student</td>\n",
       "      <td>01002</td>\n",
       "    </tr>\n",
       "    <tr>\n",
       "      <th>9</th>\n",
       "      <td>10</td>\n",
       "      <td>53</td>\n",
       "      <td>M</td>\n",
       "      <td>lawyer</td>\n",
       "      <td>90703</td>\n",
       "    </tr>\n",
       "    <tr>\n",
       "      <th>10</th>\n",
       "      <td>11</td>\n",
       "      <td>39</td>\n",
       "      <td>F</td>\n",
       "      <td>other</td>\n",
       "      <td>30329</td>\n",
       "    </tr>\n",
       "    <tr>\n",
       "      <th>11</th>\n",
       "      <td>12</td>\n",
       "      <td>28</td>\n",
       "      <td>F</td>\n",
       "      <td>other</td>\n",
       "      <td>06405</td>\n",
       "    </tr>\n",
       "    <tr>\n",
       "      <th>12</th>\n",
       "      <td>13</td>\n",
       "      <td>47</td>\n",
       "      <td>M</td>\n",
       "      <td>educator</td>\n",
       "      <td>29206</td>\n",
       "    </tr>\n",
       "    <tr>\n",
       "      <th>13</th>\n",
       "      <td>14</td>\n",
       "      <td>45</td>\n",
       "      <td>M</td>\n",
       "      <td>scientist</td>\n",
       "      <td>55106</td>\n",
       "    </tr>\n",
       "    <tr>\n",
       "      <th>14</th>\n",
       "      <td>15</td>\n",
       "      <td>49</td>\n",
       "      <td>F</td>\n",
       "      <td>educator</td>\n",
       "      <td>97301</td>\n",
       "    </tr>\n",
       "    <tr>\n",
       "      <th>15</th>\n",
       "      <td>16</td>\n",
       "      <td>21</td>\n",
       "      <td>M</td>\n",
       "      <td>entertainment</td>\n",
       "      <td>10309</td>\n",
       "    </tr>\n",
       "    <tr>\n",
       "      <th>16</th>\n",
       "      <td>17</td>\n",
       "      <td>30</td>\n",
       "      <td>M</td>\n",
       "      <td>programmer</td>\n",
       "      <td>06355</td>\n",
       "    </tr>\n",
       "    <tr>\n",
       "      <th>17</th>\n",
       "      <td>18</td>\n",
       "      <td>35</td>\n",
       "      <td>F</td>\n",
       "      <td>other</td>\n",
       "      <td>37212</td>\n",
       "    </tr>\n",
       "    <tr>\n",
       "      <th>18</th>\n",
       "      <td>19</td>\n",
       "      <td>40</td>\n",
       "      <td>M</td>\n",
       "      <td>librarian</td>\n",
       "      <td>02138</td>\n",
       "    </tr>\n",
       "    <tr>\n",
       "      <th>19</th>\n",
       "      <td>20</td>\n",
       "      <td>42</td>\n",
       "      <td>F</td>\n",
       "      <td>homemaker</td>\n",
       "      <td>95660</td>\n",
       "    </tr>\n",
       "    <tr>\n",
       "      <th>20</th>\n",
       "      <td>21</td>\n",
       "      <td>26</td>\n",
       "      <td>M</td>\n",
       "      <td>writer</td>\n",
       "      <td>30068</td>\n",
       "    </tr>\n",
       "    <tr>\n",
       "      <th>21</th>\n",
       "      <td>22</td>\n",
       "      <td>25</td>\n",
       "      <td>M</td>\n",
       "      <td>writer</td>\n",
       "      <td>40206</td>\n",
       "    </tr>\n",
       "    <tr>\n",
       "      <th>22</th>\n",
       "      <td>23</td>\n",
       "      <td>30</td>\n",
       "      <td>F</td>\n",
       "      <td>artist</td>\n",
       "      <td>48197</td>\n",
       "    </tr>\n",
       "    <tr>\n",
       "      <th>23</th>\n",
       "      <td>24</td>\n",
       "      <td>21</td>\n",
       "      <td>F</td>\n",
       "      <td>artist</td>\n",
       "      <td>94533</td>\n",
       "    </tr>\n",
       "    <tr>\n",
       "      <th>24</th>\n",
       "      <td>25</td>\n",
       "      <td>39</td>\n",
       "      <td>M</td>\n",
       "      <td>engineer</td>\n",
       "      <td>55107</td>\n",
       "    </tr>\n",
       "  </tbody>\n",
       "</table>\n",
       "</div>"
      ],
      "text/plain": [
       "    user_id  age gender     occupation zip_code\n",
       "0         1   24      M     technician    85711\n",
       "1         2   53      F          other    94043\n",
       "2         3   23      M         writer    32067\n",
       "3         4   24      M     technician    43537\n",
       "4         5   33      F          other    15213\n",
       "5         6   42      M      executive    98101\n",
       "6         7   57      M  administrator    91344\n",
       "7         8   36      M  administrator    05201\n",
       "8         9   29      M        student    01002\n",
       "9        10   53      M         lawyer    90703\n",
       "10       11   39      F          other    30329\n",
       "11       12   28      F          other    06405\n",
       "12       13   47      M       educator    29206\n",
       "13       14   45      M      scientist    55106\n",
       "14       15   49      F       educator    97301\n",
       "15       16   21      M  entertainment    10309\n",
       "16       17   30      M     programmer    06355\n",
       "17       18   35      F          other    37212\n",
       "18       19   40      M      librarian    02138\n",
       "19       20   42      F      homemaker    95660\n",
       "20       21   26      M         writer    30068\n",
       "21       22   25      M         writer    40206\n",
       "22       23   30      F         artist    48197\n",
       "23       24   21      F         artist    94533\n",
       "24       25   39      M       engineer    55107"
      ]
     },
     "execution_count": 4,
     "metadata": {},
     "output_type": "execute_result"
    }
   ],
   "source": [
    "# Enter your code below\n",
    "# =====================\n",
    "users.iloc[0:25]"
   ]
  },
  {
   "cell_type": "code",
   "execution_count": 5,
   "metadata": {},
   "outputs": [
    {
     "data": {
      "text/html": [
       "<div>\n",
       "<style scoped>\n",
       "    .dataframe tbody tr th:only-of-type {\n",
       "        vertical-align: middle;\n",
       "    }\n",
       "\n",
       "    .dataframe tbody tr th {\n",
       "        vertical-align: top;\n",
       "    }\n",
       "\n",
       "    .dataframe thead th {\n",
       "        text-align: right;\n",
       "    }\n",
       "</style>\n",
       "<table border=\"1\" class=\"dataframe\">\n",
       "  <thead>\n",
       "    <tr style=\"text-align: right;\">\n",
       "      <th></th>\n",
       "      <th>user_id</th>\n",
       "      <th>age</th>\n",
       "      <th>gender</th>\n",
       "      <th>occupation</th>\n",
       "      <th>zip_code</th>\n",
       "    </tr>\n",
       "  </thead>\n",
       "  <tbody>\n",
       "    <tr>\n",
       "      <th>933</th>\n",
       "      <td>934</td>\n",
       "      <td>61</td>\n",
       "      <td>M</td>\n",
       "      <td>engineer</td>\n",
       "      <td>22902</td>\n",
       "    </tr>\n",
       "    <tr>\n",
       "      <th>934</th>\n",
       "      <td>935</td>\n",
       "      <td>42</td>\n",
       "      <td>M</td>\n",
       "      <td>doctor</td>\n",
       "      <td>66221</td>\n",
       "    </tr>\n",
       "    <tr>\n",
       "      <th>935</th>\n",
       "      <td>936</td>\n",
       "      <td>24</td>\n",
       "      <td>M</td>\n",
       "      <td>other</td>\n",
       "      <td>32789</td>\n",
       "    </tr>\n",
       "    <tr>\n",
       "      <th>936</th>\n",
       "      <td>937</td>\n",
       "      <td>48</td>\n",
       "      <td>M</td>\n",
       "      <td>educator</td>\n",
       "      <td>98072</td>\n",
       "    </tr>\n",
       "    <tr>\n",
       "      <th>937</th>\n",
       "      <td>938</td>\n",
       "      <td>38</td>\n",
       "      <td>F</td>\n",
       "      <td>technician</td>\n",
       "      <td>55038</td>\n",
       "    </tr>\n",
       "    <tr>\n",
       "      <th>938</th>\n",
       "      <td>939</td>\n",
       "      <td>26</td>\n",
       "      <td>F</td>\n",
       "      <td>student</td>\n",
       "      <td>33319</td>\n",
       "    </tr>\n",
       "    <tr>\n",
       "      <th>939</th>\n",
       "      <td>940</td>\n",
       "      <td>32</td>\n",
       "      <td>M</td>\n",
       "      <td>administrator</td>\n",
       "      <td>02215</td>\n",
       "    </tr>\n",
       "    <tr>\n",
       "      <th>940</th>\n",
       "      <td>941</td>\n",
       "      <td>20</td>\n",
       "      <td>M</td>\n",
       "      <td>student</td>\n",
       "      <td>97229</td>\n",
       "    </tr>\n",
       "    <tr>\n",
       "      <th>941</th>\n",
       "      <td>942</td>\n",
       "      <td>48</td>\n",
       "      <td>F</td>\n",
       "      <td>librarian</td>\n",
       "      <td>78209</td>\n",
       "    </tr>\n",
       "    <tr>\n",
       "      <th>942</th>\n",
       "      <td>943</td>\n",
       "      <td>22</td>\n",
       "      <td>M</td>\n",
       "      <td>student</td>\n",
       "      <td>77841</td>\n",
       "    </tr>\n",
       "  </tbody>\n",
       "</table>\n",
       "</div>"
      ],
      "text/plain": [
       "     user_id  age gender     occupation zip_code\n",
       "933      934   61      M       engineer    22902\n",
       "934      935   42      M         doctor    66221\n",
       "935      936   24      M          other    32789\n",
       "936      937   48      M       educator    98072\n",
       "937      938   38      F     technician    55038\n",
       "938      939   26      F        student    33319\n",
       "939      940   32      M  administrator    02215\n",
       "940      941   20      M        student    97229\n",
       "941      942   48      F      librarian    78209\n",
       "942      943   22      M        student    77841"
      ]
     },
     "execution_count": 5,
     "metadata": {},
     "output_type": "execute_result"
    }
   ],
   "source": [
    "users.iloc[-10:]"
   ]
  },
  {
   "cell_type": "code",
   "execution_count": 6,
   "metadata": {},
   "outputs": [
    {
     "name": "stdout",
     "output_type": "stream",
     "text": [
      "n rows = 943, n cols = 5\n"
     ]
    }
   ],
   "source": [
    "# Number of rows and cols\n",
    "print(f'n rows = {users.shape[0]}, n cols = {users.shape[1]}')"
   ]
  },
  {
   "cell_type": "markdown",
   "metadata": {},
   "source": [
    "__Task 3:__\n",
    "\n",
    "Explore columns and rows\n",
    "<ol>\n",
    "    <li/> Print names of columns\n",
    "    <li/> Print names of rows (index)\n",
    "    <li/> Find data type of each column\n",
    "</ol>"
   ]
  },
  {
   "cell_type": "code",
   "execution_count": 7,
   "metadata": {
    "ExecuteTime": {
     "end_time": "2021-01-07T08:35:45.719318Z",
     "start_time": "2021-01-07T08:35:45.708548Z"
    }
   },
   "outputs": [
    {
     "name": "stdout",
     "output_type": "stream",
     "text": [
      "Index(['user_id', 'age', 'gender', 'occupation', 'zip_code'], dtype='object')\n",
      "RangeIndex(start=0, stop=943, step=1)\n",
      "user_id        int64\n",
      "age            int64\n",
      "gender        object\n",
      "occupation    object\n",
      "zip_code      object\n",
      "dtype: object\n"
     ]
    }
   ],
   "source": [
    "# Enter your code below\n",
    "# =====================\n",
    "print(users.columns)\n",
    "print(users.index)\n",
    "print(users.dtypes)"
   ]
  },
  {
   "cell_type": "markdown",
   "metadata": {},
   "source": [
    "__Task 4:__\n",
    "\n",
    "Explore a single column\n",
    "<ol>\n",
    "    <li/> Print the 'occupation' column\n",
    "    <li/> Find the number of different occupations in the dataset\n",
    "    <li/> What is the most frequent occupation?\n",
    "</ol>"
   ]
  },
  {
   "cell_type": "code",
   "execution_count": 8,
   "metadata": {
    "ExecuteTime": {
     "end_time": "2021-01-07T08:35:45.728377Z",
     "start_time": "2021-01-07T08:35:45.720593Z"
    }
   },
   "outputs": [
    {
     "name": "stdout",
     "output_type": "stream",
     "text": [
      "0         technician\n",
      "1              other\n",
      "2             writer\n",
      "3         technician\n",
      "4              other\n",
      "           ...      \n",
      "938          student\n",
      "939    administrator\n",
      "940          student\n",
      "941        librarian\n",
      "942          student\n",
      "Name: occupation, Length: 943, dtype: object\n",
      "['technician' 'other' 'writer' 'executive' 'administrator' 'student'\n",
      " 'lawyer' 'educator' 'scientist' 'entertainment' 'programmer' 'librarian'\n",
      " 'homemaker' 'artist' 'engineer' 'marketing' 'none' 'healthcare' 'retired'\n",
      " 'salesman' 'doctor']\n",
      "occupation\n",
      "administrator     79\n",
      "artist            28\n",
      "doctor             7\n",
      "educator          95\n",
      "engineer          67\n",
      "entertainment     18\n",
      "executive         32\n",
      "healthcare        16\n",
      "homemaker          7\n",
      "lawyer            12\n",
      "librarian         51\n",
      "marketing         26\n",
      "none               9\n",
      "other            105\n",
      "programmer        66\n",
      "retired           14\n",
      "salesman          12\n",
      "scientist         31\n",
      "student          196\n",
      "technician        27\n",
      "writer            45\n",
      "dtype: int64\n"
     ]
    }
   ],
   "source": [
    "# Enter your code below\n",
    "# =====================\n",
    "print(users['occupation'])\n",
    "print(users['occupation'].unique())\n",
    "print(users.groupby('occupation').size())"
   ]
  },
  {
   "cell_type": "markdown",
   "metadata": {},
   "source": [
    "__Task 5:__\n",
    "\n",
    "Let's summarize!\n",
    "<ol>\n",
    "    <li/> Summarise the dataframe\n",
    "    <li/> Summarize the dataframe column by column in a loop. What information can you see here that is lacking in the previous task?\n",
    "</ol>"
   ]
  },
  {
   "cell_type": "code",
   "execution_count": 9,
   "metadata": {
    "ExecuteTime": {
     "end_time": "2021-01-07T08:35:45.734719Z",
     "start_time": "2021-01-07T08:35:45.730450Z"
    }
   },
   "outputs": [
    {
     "name": "stdout",
     "output_type": "stream",
     "text": [
      "count    943.000000\n",
      "mean     472.000000\n",
      "std      272.364951\n",
      "min        1.000000\n",
      "25%      236.500000\n",
      "50%      472.000000\n",
      "75%      707.500000\n",
      "max      943.000000\n",
      "Name: user_id, dtype: float64\n",
      "\n",
      "\n",
      "count    943.000000\n",
      "mean      34.051962\n",
      "std       12.192740\n",
      "min        7.000000\n",
      "25%       25.000000\n",
      "50%       31.000000\n",
      "75%       43.000000\n",
      "max       73.000000\n",
      "Name: age, dtype: float64\n",
      "\n",
      "\n",
      "count     943\n",
      "unique      2\n",
      "top         M\n",
      "freq      670\n",
      "Name: gender, dtype: object\n",
      "\n",
      "\n",
      "count         943\n",
      "unique         21\n",
      "top       student\n",
      "freq          196\n",
      "Name: occupation, dtype: object\n",
      "\n",
      "\n",
      "count       943\n",
      "unique      795\n",
      "top       55414\n",
      "freq          9\n",
      "Name: zip_code, dtype: object\n",
      "\n",
      "\n"
     ]
    }
   ],
   "source": [
    "# Enter your code below\n",
    "# =====================\n",
    "\n",
    "for cols in users.columns:\n",
    "    print(users[cols].describe())\n",
    "    print('\\n')"
   ]
  },
  {
   "cell_type": "markdown",
   "metadata": {},
   "source": [
    "__Task 6:__\n",
    "\n",
    "Explore the age variable\n",
    "<ol>\n",
    "    <li/> What is the mean age of users?\n",
    "    <li/> What is/are the age(s) with least occurence(s)?\n",
    "</ol>"
   ]
  },
  {
   "cell_type": "code",
   "execution_count": 10,
   "metadata": {
    "ExecuteTime": {
     "end_time": "2021-01-07T08:35:45.741289Z",
     "start_time": "2021-01-07T08:35:45.736229Z"
    }
   },
   "outputs": [
    {
     "name": "stdout",
     "output_type": "stream",
     "text": [
      "34.05196182396607\n"
     ]
    }
   ],
   "source": [
    "# Enter your code below\n",
    "# =====================\n",
    "\n",
    "print(users['age'].mean())\n",
    "ages = users.age\n",
    "ages_counts = ages.value_counts()"
   ]
  },
  {
   "cell_type": "markdown",
   "metadata": {},
   "source": [
    "---\n",
    "\n",
    "<img src=\"../images/medium.png\"\n",
    "     alt=\"Hierarchical clustering\"\n",
    "     style=\"width: 75px; float: right; margin: 20px\" />\n",
    "\n",
    "## Level: Medium <a class=\"anchor\" id=\"medium\"></a>"
   ]
  },
  {
   "cell_type": "markdown",
   "metadata": {},
   "source": [
    "__Task 1:__\n",
    "\n",
    "Go to https://www.kaggle.com/openfoodfacts/world-food-facts/data, download and unzip the data. Assign the TSV file to a dataframe called `food`."
   ]
  },
  {
   "cell_type": "code",
   "execution_count": 11,
   "metadata": {
    "ExecuteTime": {
     "end_time": "2021-01-07T08:35:45.748564Z",
     "start_time": "2021-01-07T08:35:45.743973Z"
    }
   },
   "outputs": [
    {
     "name": "stderr",
     "output_type": "stream",
     "text": [
      "/var/folders/nq/n7fl76l937vb42331rm644h80000gn/T/ipykernel_1373/1794504625.py:3: DtypeWarning: Columns (0,3,5,19,20,24,25,26,27,28,36,37,38,39,48) have mixed types. Specify dtype option on import or set low_memory=False.\n",
      "  food = pd.read_csv('en.openfoodfacts.org.products.tsv', sep=\"\\t\")\n"
     ]
    },
    {
     "name": "stdout",
     "output_type": "stream",
     "text": [
      "                 code                                                url  \\\n",
      "0                3087  http://world-en.openfoodfacts.org/product/0000...   \n",
      "1                4530  http://world-en.openfoodfacts.org/product/0000...   \n",
      "2                4559  http://world-en.openfoodfacts.org/product/0000...   \n",
      "3               16087  http://world-en.openfoodfacts.org/product/0000...   \n",
      "4               16094  http://world-en.openfoodfacts.org/product/0000...   \n",
      "...               ...                                                ...   \n",
      "356022       99567453  http://world-en.openfoodfacts.org/product/9956...   \n",
      "356023  9970229501521  http://world-en.openfoodfacts.org/product/9970...   \n",
      "356024  9977471758307  http://world-en.openfoodfacts.org/product/9977...   \n",
      "356025  9980282863788  http://world-en.openfoodfacts.org/product/9980...   \n",
      "356026   999990026839  http://world-en.openfoodfacts.org/product/9999...   \n",
      "\n",
      "                           creator   created_t      created_datetime  \\\n",
      "0       openfoodfacts-contributors  1474103866  2016-09-17T09:17:46Z   \n",
      "1                  usda-ndb-import  1489069957  2017-03-09T14:32:37Z   \n",
      "2                  usda-ndb-import  1489069957  2017-03-09T14:32:37Z   \n",
      "3                  usda-ndb-import  1489055731  2017-03-09T10:35:31Z   \n",
      "4                  usda-ndb-import  1489055653  2017-03-09T10:34:13Z   \n",
      "...                            ...         ...                   ...   \n",
      "356022             usda-ndb-import  1489059076  2017-03-09T11:31:16Z   \n",
      "356023                      tomato  1422099377  2015-01-24T11:36:17Z   \n",
      "356024  openfoodfacts-contributors  1497018549  2017-06-09T14:29:09Z   \n",
      "356025  openfoodfacts-contributors  1492340089  2017-04-16T10:54:49Z   \n",
      "356026             usda-ndb-import  1489072709  2017-03-09T15:18:29Z   \n",
      "\n",
      "       last_modified_t last_modified_datetime  \\\n",
      "0           1474103893   2016-09-17T09:18:13Z   \n",
      "1           1489069957   2017-03-09T14:32:37Z   \n",
      "2           1489069957   2017-03-09T14:32:37Z   \n",
      "3           1489055731   2017-03-09T10:35:31Z   \n",
      "4           1489055653   2017-03-09T10:34:13Z   \n",
      "...                ...                    ...   \n",
      "356022      1491244499   2017-04-03T18:34:59Z   \n",
      "356023      1491244499   2017-04-03T18:34:59Z   \n",
      "356024      1500730305   2017-07-22T13:31:45Z   \n",
      "356025      1492340089   2017-04-16T10:54:49Z   \n",
      "356026      1491244499   2017-04-03T18:34:59Z   \n",
      "\n",
      "                                             product_name  \\\n",
      "0                                      Farine de blé noir   \n",
      "1                          Banana Chips Sweetened (Whole)   \n",
      "2                                                 Peanuts   \n",
      "3                                  Organic Salted Nut Mix   \n",
      "4                                         Organic Polenta   \n",
      "...                                                   ...   \n",
      "356022  Mint Melange Tea A Blend Of Peppermint, Lemon ...   \n",
      "356023                                            乐吧泡菜味薯片   \n",
      "356024                                      Biscottes bio   \n",
      "356025                           Tomates aux Vermicelles    \n",
      "356026                    Sugar Free Drink Mix, Peach Tea   \n",
      "\n",
      "                           generic_name quantity  ...  \\\n",
      "0                                   NaN      1kg  ...   \n",
      "1                                   NaN      NaN  ...   \n",
      "2                                   NaN      NaN  ...   \n",
      "3                                   NaN      NaN  ...   \n",
      "4                                   NaN      NaN  ...   \n",
      "...                                 ...      ...  ...   \n",
      "356022                              NaN      NaN  ...   \n",
      "356023  Leba pickle flavor potato chips     50 g  ...   \n",
      "356024                              NaN     300g  ...   \n",
      "356025                              NaN      67g  ...   \n",
      "356026                              NaN      NaN  ...   \n",
      "\n",
      "       fruits-vegetables-nuts_100g fruits-vegetables-nuts-estimate_100g  \\\n",
      "0                              NaN                                  NaN   \n",
      "1                              NaN                                  NaN   \n",
      "2                              NaN                                  NaN   \n",
      "3                              NaN                                  NaN   \n",
      "4                              NaN                                  NaN   \n",
      "...                            ...                                  ...   \n",
      "356022                         NaN                                  NaN   \n",
      "356023                         NaN                                  NaN   \n",
      "356024                         NaN                                  NaN   \n",
      "356025                         NaN                                  NaN   \n",
      "356026                         NaN                                  NaN   \n",
      "\n",
      "       collagen-meat-protein-ratio_100g cocoa_100g chlorophyl_100g  \\\n",
      "0                                   NaN        NaN             NaN   \n",
      "1                                   NaN        NaN             NaN   \n",
      "2                                   NaN        NaN             NaN   \n",
      "3                                   NaN        NaN             NaN   \n",
      "4                                   NaN        NaN             NaN   \n",
      "...                                 ...        ...             ...   \n",
      "356022                              NaN        NaN             NaN   \n",
      "356023                              NaN        NaN             NaN   \n",
      "356024                              NaN        NaN             NaN   \n",
      "356025                              NaN        NaN             NaN   \n",
      "356026                              NaN        NaN             NaN   \n",
      "\n",
      "       carbon-footprint_100g nutrition-score-fr_100g nutrition-score-uk_100g  \\\n",
      "0                        NaN                     NaN                     NaN   \n",
      "1                        NaN                    14.0                    14.0   \n",
      "2                        NaN                     0.0                     0.0   \n",
      "3                        NaN                    12.0                    12.0   \n",
      "4                        NaN                     NaN                     NaN   \n",
      "...                      ...                     ...                     ...   \n",
      "356022                   NaN                     0.0                     0.0   \n",
      "356023                   NaN                     NaN                     NaN   \n",
      "356024                   NaN                     NaN                     NaN   \n",
      "356025                   NaN                     NaN                     NaN   \n",
      "356026                   NaN                     NaN                     NaN   \n",
      "\n",
      "       glycemic-index_100g water-hardness_100g  \n",
      "0                      NaN                 NaN  \n",
      "1                      NaN                 NaN  \n",
      "2                      NaN                 NaN  \n",
      "3                      NaN                 NaN  \n",
      "4                      NaN                 NaN  \n",
      "...                    ...                 ...  \n",
      "356022                 NaN                 NaN  \n",
      "356023                 NaN                 NaN  \n",
      "356024                 NaN                 NaN  \n",
      "356025                 NaN                 NaN  \n",
      "356026                 NaN                 NaN  \n",
      "\n",
      "[356027 rows x 163 columns]\n"
     ]
    }
   ],
   "source": [
    "# Enter your code below\n",
    "# =====================\n",
    "food = pd.read_csv('en.openfoodfacts.org.products.tsv', sep=\"\\t\")\n",
    "print(food)"
   ]
  },
  {
   "cell_type": "markdown",
   "metadata": {},
   "source": [
    "__Task 2:__\n",
    "\n",
    "Explore the dataset. \n",
    "<ol>\n",
    "    <li/> Print the FIRST 10 rows with columns 5, 6, 7 (hint: iloc)\n",
    "    <li/> How many observations are there?\n",
    "    <li/> How many columns are there?\n",
    "    <li/> How is the dataset indexed?\n",
    "</ol>"
   ]
  },
  {
   "cell_type": "code",
   "execution_count": 12,
   "metadata": {
    "ExecuteTime": {
     "end_time": "2021-01-07T08:35:45.754306Z",
     "start_time": "2021-01-07T08:35:45.750700Z"
    }
   },
   "outputs": [
    {
     "name": "stdout",
     "output_type": "stream",
     "text": [
      "  last_modified_t last_modified_datetime                       product_name\n",
      "0      1474103893   2016-09-17T09:18:13Z                 Farine de blé noir\n",
      "1      1489069957   2017-03-09T14:32:37Z     Banana Chips Sweetened (Whole)\n",
      "2      1489069957   2017-03-09T14:32:37Z                            Peanuts\n",
      "3      1489055731   2017-03-09T10:35:31Z             Organic Salted Nut Mix\n",
      "4      1489055653   2017-03-09T10:34:13Z                    Organic Polenta\n",
      "5      1489055651   2017-03-09T10:34:11Z  Breadshop Honey Gone Nuts Granola\n",
      "6      1489055730   2017-03-09T10:35:30Z      Organic Long Grain White Rice\n",
      "7      1489055712   2017-03-09T10:35:12Z                     Organic Muesli\n",
      "8      1489055651   2017-03-09T10:34:11Z       Organic Dark Chocolate Minis\n",
      "9      1489055654   2017-03-09T10:34:14Z              Organic Sunflower Oil\n",
      "num observations = 356027 and num cols = 163\n"
     ]
    }
   ],
   "source": [
    "# Enter your code below\n",
    "# =====================\n",
    "print(food.iloc[:10, 5:8])\n",
    "\n",
    "print(f'num observations = {food.shape[0]} and num cols = {food.shape[1]}')"
   ]
  },
  {
   "cell_type": "markdown",
   "metadata": {},
   "source": [
    "__Task 3:__\n",
    "\n",
    "Explore the columns.\n",
    "<ol>\n",
    "    <li/> Use a for-loop to print the names of all the columns\n",
    "    <li/> Print the name of the 105th column\n",
    "    <li/> Print the dtype of the 105th column\n",
    "</ol>"
   ]
  },
  {
   "cell_type": "code",
   "execution_count": 13,
   "metadata": {
    "ExecuteTime": {
     "end_time": "2021-01-07T08:35:45.760324Z",
     "start_time": "2021-01-07T08:35:45.755778Z"
    }
   },
   "outputs": [
    {
     "name": "stdout",
     "output_type": "stream",
     "text": [
      "code\n",
      "url\n",
      "creator\n",
      "created_t\n",
      "created_datetime\n",
      "last_modified_t\n",
      "last_modified_datetime\n",
      "product_name\n",
      "generic_name\n",
      "quantity\n",
      "packaging\n",
      "packaging_tags\n",
      "brands\n",
      "brands_tags\n",
      "categories\n",
      "categories_tags\n",
      "categories_en\n",
      "origins\n",
      "origins_tags\n",
      "manufacturing_places\n",
      "manufacturing_places_tags\n",
      "labels\n",
      "labels_tags\n",
      "labels_en\n",
      "emb_codes\n",
      "emb_codes_tags\n",
      "first_packaging_code_geo\n",
      "cities\n",
      "cities_tags\n",
      "purchase_places\n",
      "stores\n",
      "countries\n",
      "countries_tags\n",
      "countries_en\n",
      "ingredients_text\n",
      "allergens\n",
      "allergens_en\n",
      "traces\n",
      "traces_tags\n",
      "traces_en\n",
      "serving_size\n",
      "no_nutriments\n",
      "additives_n\n",
      "additives\n",
      "additives_tags\n",
      "additives_en\n",
      "ingredients_from_palm_oil_n\n",
      "ingredients_from_palm_oil\n",
      "ingredients_from_palm_oil_tags\n",
      "ingredients_that_may_be_from_palm_oil_n\n",
      "ingredients_that_may_be_from_palm_oil\n",
      "ingredients_that_may_be_from_palm_oil_tags\n",
      "nutrition_grade_uk\n",
      "nutrition_grade_fr\n",
      "pnns_groups_1\n",
      "pnns_groups_2\n",
      "states\n",
      "states_tags\n",
      "states_en\n",
      "main_category\n",
      "main_category_en\n",
      "image_url\n",
      "image_small_url\n",
      "energy_100g\n",
      "energy-from-fat_100g\n",
      "fat_100g\n",
      "saturated-fat_100g\n",
      "-butyric-acid_100g\n",
      "-caproic-acid_100g\n",
      "-caprylic-acid_100g\n",
      "-capric-acid_100g\n",
      "-lauric-acid_100g\n",
      "-myristic-acid_100g\n",
      "-palmitic-acid_100g\n",
      "-stearic-acid_100g\n",
      "-arachidic-acid_100g\n",
      "-behenic-acid_100g\n",
      "-lignoceric-acid_100g\n",
      "-cerotic-acid_100g\n",
      "-montanic-acid_100g\n",
      "-melissic-acid_100g\n",
      "monounsaturated-fat_100g\n",
      "polyunsaturated-fat_100g\n",
      "omega-3-fat_100g\n",
      "-alpha-linolenic-acid_100g\n",
      "-eicosapentaenoic-acid_100g\n",
      "-docosahexaenoic-acid_100g\n",
      "omega-6-fat_100g\n",
      "-linoleic-acid_100g\n",
      "-arachidonic-acid_100g\n",
      "-gamma-linolenic-acid_100g\n",
      "-dihomo-gamma-linolenic-acid_100g\n",
      "omega-9-fat_100g\n",
      "-oleic-acid_100g\n",
      "-elaidic-acid_100g\n",
      "-gondoic-acid_100g\n",
      "-mead-acid_100g\n",
      "-erucic-acid_100g\n",
      "-nervonic-acid_100g\n",
      "trans-fat_100g\n",
      "cholesterol_100g\n",
      "carbohydrates_100g\n",
      "sugars_100g\n",
      "-sucrose_100g\n",
      "-glucose_100g\n",
      "-fructose_100g\n",
      "-lactose_100g\n",
      "-maltose_100g\n",
      "-maltodextrins_100g\n",
      "starch_100g\n",
      "polyols_100g\n",
      "fiber_100g\n",
      "proteins_100g\n",
      "casein_100g\n",
      "serum-proteins_100g\n",
      "nucleotides_100g\n",
      "salt_100g\n",
      "sodium_100g\n",
      "alcohol_100g\n",
      "vitamin-a_100g\n",
      "beta-carotene_100g\n",
      "vitamin-d_100g\n",
      "vitamin-e_100g\n",
      "vitamin-k_100g\n",
      "vitamin-c_100g\n",
      "vitamin-b1_100g\n",
      "vitamin-b2_100g\n",
      "vitamin-pp_100g\n",
      "vitamin-b6_100g\n",
      "vitamin-b9_100g\n",
      "folates_100g\n",
      "vitamin-b12_100g\n",
      "biotin_100g\n",
      "pantothenic-acid_100g\n",
      "silica_100g\n",
      "bicarbonate_100g\n",
      "potassium_100g\n",
      "chloride_100g\n",
      "calcium_100g\n",
      "phosphorus_100g\n",
      "iron_100g\n",
      "magnesium_100g\n",
      "zinc_100g\n",
      "copper_100g\n",
      "manganese_100g\n",
      "fluoride_100g\n",
      "selenium_100g\n",
      "chromium_100g\n",
      "molybdenum_100g\n",
      "iodine_100g\n",
      "caffeine_100g\n",
      "taurine_100g\n",
      "ph_100g\n",
      "fruits-vegetables-nuts_100g\n",
      "fruits-vegetables-nuts-estimate_100g\n",
      "collagen-meat-protein-ratio_100g\n",
      "cocoa_100g\n",
      "chlorophyl_100g\n",
      "carbon-footprint_100g\n",
      "nutrition-score-fr_100g\n",
      "nutrition-score-uk_100g\n",
      "glycemic-index_100g\n",
      "water-hardness_100g\n"
     ]
    }
   ],
   "source": [
    "# Enter your code below\n",
    "# =====================\n",
    "for col in food.columns:\n",
    "    print(col)"
   ]
  },
  {
   "cell_type": "code",
   "execution_count": 18,
   "metadata": {},
   "outputs": [
    {
     "name": "stdout",
     "output_type": "stream",
     "text": [
      "The 105th column is -fructose_100g\n",
      "The datatype of the 105th column is float64\n"
     ]
    }
   ],
   "source": [
    "print(f'The 105th column is {food.columns[105]}')\n",
    "print(f'The datatype of the 105th column is {food.dtypes[105]}')"
   ]
  },
  {
   "cell_type": "markdown",
   "metadata": {},
   "source": [
    "__Task 4:__\n",
    "\n",
    "What is the product name of the 19th observation?"
   ]
  },
  {
   "cell_type": "code",
   "execution_count": 19,
   "metadata": {
    "ExecuteTime": {
     "end_time": "2021-01-07T08:35:45.766680Z",
     "start_time": "2021-01-07T08:35:45.761682Z"
    }
   },
   "outputs": [
    {
     "data": {
      "text/plain": [
       "'Organic Oat Groats'"
      ]
     },
     "execution_count": 19,
     "metadata": {},
     "output_type": "execute_result"
    }
   ],
   "source": [
    "# Enter your code below\n",
    "# =====================\n",
    "food['product_name'][19]"
   ]
  },
  {
   "cell_type": "markdown",
   "metadata": {},
   "source": [
    "__Task 5:__\n",
    "\n",
    "Explore the realm of peanuts!\n",
    "<ol>\n",
    "    <li/> How many entries have a product name of 'Peanuts'?\n",
    "    <li/> How many unique 'creator' values are associated with  the peanut-entries?\n",
    "    <li/> Which creator is most frequent, and what is the number of entries from this creator in the peanut entries?\n",
    "</ol>"
   ]
  },
  {
   "cell_type": "code",
   "execution_count": 11,
   "metadata": {
    "ExecuteTime": {
     "end_time": "2021-01-07T08:35:45.771992Z",
     "start_time": "2021-01-07T08:35:45.767879Z"
    }
   },
   "outputs": [],
   "source": [
    "# Enter your code below\n",
    "# =====================\n"
   ]
  },
  {
   "cell_type": "markdown",
   "metadata": {},
   "source": [
    "---\n",
    "\n",
    "<img src=\"../images/challenging.png\"\n",
    "     alt=\"Hierarchical clustering\"\n",
    "     style=\"width: 75px; float: right; margin: 20px\" />\n",
    "\n",
    "## Level: Challenging <a class=\"anchor\" id=\"challenge\"></a>"
   ]
  },
  {
   "cell_type": "markdown",
   "metadata": {},
   "source": [
    "__Task 1:__\n",
    "\n",
    "Use the following URL to save the Bysykkel JSON dataset to a dataframe called `trips_df`: https://data-legacy.urbansharing.com/oslobysykkel.no/2016/09.json.zip. Familiarize yourself with the dataset."
   ]
  },
  {
   "cell_type": "code",
   "execution_count": 12,
   "metadata": {
    "ExecuteTime": {
     "end_time": "2021-01-07T08:35:45.778523Z",
     "start_time": "2021-01-07T08:35:45.773546Z"
    }
   },
   "outputs": [],
   "source": [
    "# Enter your code below\n",
    "# =====================\n"
   ]
  },
  {
   "cell_type": "markdown",
   "metadata": {},
   "source": [
    "__Task 2:__\n",
    "\n",
    "Use the `groupby` and `agg` methods to create a new dataframe, called `'trips_df_agg'` by aggregating the data by `start_station_id`.\n",
    "   The aggregated dataframe should have the following index and columns:\n",
    "\n",
    "\n",
    "* Index: `start_station_id`\n",
    "* Column `'trip_count'`: Count of trips made from this station\n",
    "* Column `'first_trip'`: First recorded trip made from this station (start timestamp)\n",
    "* Column `'last_trip'`: Last recorded trip made from this station (start timestamp)"
   ]
  },
  {
   "cell_type": "code",
   "execution_count": 13,
   "metadata": {
    "ExecuteTime": {
     "end_time": "2021-01-07T08:35:45.784542Z",
     "start_time": "2021-01-07T08:35:45.780113Z"
    }
   },
   "outputs": [],
   "source": [
    "# Enter your code below\n",
    "# =====================\n"
   ]
  },
  {
   "cell_type": "markdown",
   "metadata": {},
   "source": [
    "__Task 3:__\n",
    "\n",
    "Now sort the `trips_df_agg` dataframe by your `trip_count` column, in descending order."
   ]
  },
  {
   "cell_type": "code",
   "execution_count": 14,
   "metadata": {
    "ExecuteTime": {
     "end_time": "2021-01-07T08:35:45.790529Z",
     "start_time": "2021-01-07T08:35:45.785900Z"
    }
   },
   "outputs": [],
   "source": [
    "# Enter your code below\n",
    "# =====================\n"
   ]
  },
  {
   "cell_type": "markdown",
   "metadata": {},
   "source": [
    "__Task 4:__\n",
    "\n",
    "Going back to `trips_df`:\n",
    "<ol> \n",
    "    <li/> Convert the datatypes of time-based columns to 'datetime64'\n",
    "    <li/> Create a new column called 'day_of_week', containing the day number of the week for the entry. \n",
    "</ol>    \n",
    "\n",
    "(Hint: Use the `.weekday()` function built into datetime objects)\n",
    "    "
   ]
  },
  {
   "cell_type": "code",
   "execution_count": 15,
   "metadata": {
    "ExecuteTime": {
     "end_time": "2021-01-07T08:35:45.796486Z",
     "start_time": "2021-01-07T08:35:45.793821Z"
    }
   },
   "outputs": [],
   "source": [
    "# Enter your code below\n",
    "# =====================\n",
    "\n"
   ]
  },
  {
   "cell_type": "markdown",
   "metadata": {},
   "source": [
    "__Task 5:__\n",
    "\n",
    "Which two days of the week have the highest activity levels? \n",
    "<ol>\n",
    "    <li/>Use a histogram to observe `day_of_week` frequencies.\n",
    "    <li/>Use a list of weekday names and value_counts() to create a dictionary of type: {'monday': 3255 ... }"
   ]
  },
  {
   "cell_type": "code",
   "execution_count": 16,
   "metadata": {
    "ExecuteTime": {
     "end_time": "2021-01-07T08:35:45.802400Z",
     "start_time": "2021-01-07T08:35:45.797854Z"
    }
   },
   "outputs": [],
   "source": [
    "# Enter your code below\n",
    "# =====================\n",
    "\n"
   ]
  },
  {
   "cell_type": "markdown",
   "metadata": {},
   "source": [
    "___\n",
    "___"
   ]
  }
 ],
 "metadata": {
  "kernelspec": {
   "display_name": "Python 3 (ipykernel)",
   "language": "python",
   "name": "python3"
  },
  "language_info": {
   "codemirror_mode": {
    "name": "ipython",
    "version": 3
   },
   "file_extension": ".py",
   "mimetype": "text/x-python",
   "name": "python",
   "nbconvert_exporter": "python",
   "pygments_lexer": "ipython3",
   "version": "3.10.9"
  },
  "toc": {
   "base_numbering": 1,
   "nav_menu": {},
   "number_sections": true,
   "sideBar": true,
   "skip_h1_title": false,
   "title_cell": "Table of Contents",
   "title_sidebar": "Contents",
   "toc_cell": false,
   "toc_position": {},
   "toc_section_display": true,
   "toc_window_display": false
  },
  "varInspector": {
   "cols": {
    "lenName": 16,
    "lenType": 16,
    "lenVar": 40
   },
   "kernels_config": {
    "python": {
     "delete_cmd_postfix": "",
     "delete_cmd_prefix": "del ",
     "library": "var_list.py",
     "varRefreshCmd": "print(var_dic_list())"
    },
    "r": {
     "delete_cmd_postfix": ") ",
     "delete_cmd_prefix": "rm(",
     "library": "var_list.r",
     "varRefreshCmd": "cat(var_dic_list()) "
    }
   },
   "types_to_exclude": [
    "module",
    "function",
    "builtin_function_or_method",
    "instance",
    "_Feature"
   ],
   "window_display": false
  }
 },
 "nbformat": 4,
 "nbformat_minor": 4
}
